{
 "cells": [
  {
   "cell_type": "code",
   "execution_count": 16,
   "id": "b4f2cae5",
   "metadata": {},
   "outputs": [],
   "source": [
    "from typing import TypedDict\n",
    "from langgraph.graph import StateGraph, START, END"
   ]
  },
  {
   "cell_type": "code",
   "execution_count": 17,
   "id": "5363e461",
   "metadata": {},
   "outputs": [],
   "source": [
    "class AgentState(TypedDict):\n",
    "    number1: int\n",
    "    number2: int\n",
    "    operation: str\n",
    "    result: int"
   ]
  },
  {
   "cell_type": "code",
   "execution_count": 18,
   "id": "a0023c95",
   "metadata": {},
   "outputs": [],
   "source": [
    "def add_numbers(state: AgentState) -> AgentState:\n",
    "    \"\"\"This function adds two numbers.\"\"\"\n",
    "    state['result'] = state['number1'] + state['number2']\n",
    "    return state\n",
    "\n",
    "def subtract_numbers(state: AgentState) -> AgentState:\n",
    "    \"\"\"This function subtracts two numbers.\"\"\"\n",
    "    state['result'] = state['number1'] - state['number2']\n",
    "    return state\n",
    "\n",
    "def decide_next_node(state: AgentState) -> str:\n",
    "    \"\"\"Decides the next operation based on the 'operation' field.\"\"\"\n",
    "    if state['operation'] == '+':\n",
    "        return 'add'\n",
    "    elif state['operation'] == '-':\n",
    "        return 'subtract'\n",
    "    else:\n",
    "        raise ValueError(\"Invalid operation. Choose '+' or '-'.\")"
   ]
  },
  {
   "cell_type": "code",
   "execution_count": 19,
   "id": "10a4c966",
   "metadata": {},
   "outputs": [
    {
     "data": {
      "text/plain": [
       "<langgraph.graph.state.StateGraph at 0x2495f8b9b50>"
      ]
     },
     "execution_count": 19,
     "metadata": {},
     "output_type": "execute_result"
    }
   ],
   "source": [
    "graph = StateGraph(AgentState)\n",
    "\n",
    "graph.add_node(\"add_node\", add_numbers)\n",
    "graph.add_node(\"subtract_node\", subtract_numbers)\n",
    "graph.add_node(\"router\", lambda state:state) # passthrough function\n",
    "\n",
    "graph.add_edge(START, \"router\")\n",
    "\n",
    "graph.add_conditional_edges(\n",
    "    \"router\",\n",
    "    decide_next_node,\n",
    "    {\n",
    "        # Edge: Node\n",
    "        'add': \"add_node\",\n",
    "        'subtract': \"subtract_node\"\n",
    "    }\n",
    ")\n",
    "\n",
    "graph.add_edge(\"add_node\", END)\n",
    "graph.add_edge(\"subtract_node\", END)"
   ]
  },
  {
   "cell_type": "code",
   "execution_count": 20,
   "id": "47de95f6",
   "metadata": {},
   "outputs": [
    {
     "data": {
      "image/png": "[encoded data removed]",
      "text/plain": [
       "<IPython.core.display.Image object>"
      ]
     },
     "metadata": {},
     "output_type": "display_data"
    }
   ],
   "source": [
    "app = graph.compile()\n",
    "\n",
    "from IPython.display import Image, display\n",
    "display(Image(app.get_graph().draw_mermaid_png()))"
   ]
  },
  {
   "cell_type": "code",
   "execution_count": 21,
   "id": "a7b34798",
   "metadata": {},
   "outputs": [
    {
     "data": {
      "text/plain": [
       "{'number1': 10, 'number2': 5, 'operation': '+', 'result': 15}"
      ]
     },
     "execution_count": 21,
     "metadata": {},
     "output_type": "execute_result"
    }
   ],
   "source": [
    "initial_state_1 = AgentState(number1 = 10, operation = \"+\", number2 = 5)\n",
    "app.invoke(initial_state_1)"
   ]
  }
 ],
 "metadata": {
  "kernelspec": {
   "display_name": ".venv",
   "language": "python",
   "name": "python3"
  },
  "language_info": {
   "codemirror_mode": {
    "name": "ipython",
    "version": 3
   },
   "file_extension": ".py",
   "mimetype": "text/x-python",
   "name": "python",
   "nbconvert_exporter": "python",
   "pygments_lexer": "ipython3",
   "version": "3.12.10"
  }
 },
 "nbformat": 4,
 "nbformat_minor": 5
}
